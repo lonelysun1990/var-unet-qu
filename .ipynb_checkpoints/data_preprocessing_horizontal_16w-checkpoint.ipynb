{
 "cells": [
  {
   "cell_type": "code",
   "execution_count": 2,
   "metadata": {},
   "outputs": [
    {
     "name": "stderr",
     "output_type": "stream",
     "text": [
      "Using TensorFlow backend.\n"
     ]
    }
   ],
   "source": [
    "import numpy as np\n",
    "import h5py"
   ]
  },
  {
   "cell_type": "code",
   "execution_count": 3,
   "metadata": {},
   "outputs": [
    {
     "data": {
      "text/plain": [
       "<Figure size 432x288 with 0 Axes>"
      ]
     },
     "metadata": {},
     "output_type": "display_data"
    }
   ],
   "source": [
    "%matplotlib inline\n",
    "import matplotlib.pyplot as plt\n",
    "plt.set_cmap('jet')"
   ]
  },
  {
   "cell_type": "markdown",
   "metadata": {},
   "source": [
    "Load data"
   ]
  },
  {
   "cell_type": "code",
   "execution_count": 5,
   "metadata": {},
   "outputs": [
    {
     "name": "stdout",
     "output_type": "stream",
     "text": [
      "(128, 128, 3, 4, 2, 250)\n"
     ]
    }
   ],
   "source": [
    "hw_r = h5py.File('/data/cees/gegewen/cs231n_project_data/inj_S_P_data.hdf5', 'r')\n",
    "data = np.array(hw_r.get('inj_S_P_data'))\n",
    "hw_r.close()\n",
    "\n",
    "print(data.shape)"
   ]
  },
  {
   "cell_type": "markdown",
   "metadata": {},
   "source": [
    "#### shuffle data"
   ]
  },
  {
   "cell_type": "code",
   "execution_count": 10,
   "metadata": {},
   "outputs": [
    {
     "name": "stdout",
     "output_type": "stream",
     "text": [
      "(250, 4, 128, 128, 3, 2)\n"
     ]
    }
   ],
   "source": [
    "data1 = np.transpose(data, (5,3,0,1,2,4))\n",
    "print(data1.shape)"
   ]
  },
  {
   "cell_type": "code",
   "execution_count": 11,
   "metadata": {},
   "outputs": [
    {
     "name": "stdout",
     "output_type": "stream",
     "text": [
      "(1000, 128, 128, 3, 2)\n"
     ]
    }
   ],
   "source": [
    "data2 = data1.reshape(1000, 128,128,3,2)\n",
    "print(data2.shape)"
   ]
  },
  {
   "cell_type": "code",
   "execution_count": 12,
   "metadata": {},
   "outputs": [],
   "source": [
    "shuffle_ind = np.random.permutation(data2.shape[0])\n",
    "data_shuffle = data2[shuffle_ind, ...]"
   ]
  },
  {
   "cell_type": "markdown",
   "metadata": {},
   "source": [
    "#### Normalize pressure and well control"
   ]
  },
  {
   "cell_type": "code",
   "execution_count": 16,
   "metadata": {},
   "outputs": [
    {
     "name": "stdout",
     "output_type": "stream",
     "text": [
      "197.6757\n",
      "150.4889\n",
      "100.0\n",
      "-100.0\n"
     ]
    }
   ],
   "source": [
    "# data[3]: [w, S, p] => [0, 1, 2]\n",
    "\n",
    "# pressure\n",
    "print(np.max(data_shuffle[:,:,:,2,:]))\n",
    "print(np.min(data_shuffle[:,:,:,2,:]))\n",
    "\n",
    "\n",
    "# well\n",
    "print(np.max(data_shuffle[:,:,:,0,:]))\n",
    "print(np.min(data_shuffle[:,:,:,0,:]))"
   ]
  },
  {
   "cell_type": "code",
   "execution_count": 17,
   "metadata": {},
   "outputs": [],
   "source": [
    "max_p = 200\n",
    "min_p = 150\n",
    "diff_p = max_p - min_p\n",
    "\n",
    "max_w = 100 # absolute value\n",
    "min_w = 0\n",
    "diff_w = max_w - min_w\n"
   ]
  },
  {
   "cell_type": "code",
   "execution_count": 18,
   "metadata": {},
   "outputs": [],
   "source": [
    "data_shuffle[...,2,:] = (data_shuffle[...,2,:] - min_p) / diff_p\n",
    "data_shuffle[...,0,:] = (data_shuffle[...,0,:] - min_w) / diff_w"
   ]
  },
  {
   "cell_type": "markdown",
   "metadata": {},
   "source": [
    " #### Train/test split"
   ]
  },
  {
   "cell_type": "code",
   "execution_count": 19,
   "metadata": {},
   "outputs": [
    {
     "name": "stdout",
     "output_type": "stream",
     "text": [
      "(800, 128, 128, 3, 2)\n",
      "(200, 128, 128, 3, 2)\n"
     ]
    }
   ],
   "source": [
    "num_train = 800\n",
    "num_eval = 200\n",
    "\n",
    "data_train = data_shuffle[:num_train,...]\n",
    "data_eval = data_shuffle[num_train:,...]\n",
    "\n",
    "print(data_train.shape)\n",
    "print(data_eval.shape)"
   ]
  },
  {
   "cell_type": "code",
   "execution_count": 20,
   "metadata": {},
   "outputs": [],
   "source": [
    "case_name = 'horizontal_16w'\n",
    "\n",
    "hw_w = h5py.File('/data/cees/zjin/cs231n/project/var-unet/data/' + case_name + '.hdf5', 'w')\n",
    "hw_w.create_dataset('data_train', data = data_train)\n",
    "hw_w.create_dataset('data_eval', data = data_eval)\n",
    "hw_w.close()"
   ]
  },
  {
   "cell_type": "code",
   "execution_count": null,
   "metadata": {},
   "outputs": [],
   "source": []
  }
 ],
 "metadata": {
  "kernelspec": {
   "display_name": "Python [conda env:tf-1.10.0]",
   "language": "python",
   "name": "conda-env-tf-1.10.0-py"
  },
  "language_info": {
   "codemirror_mode": {
    "name": "ipython",
    "version": 3
   },
   "file_extension": ".py",
   "mimetype": "text/x-python",
   "name": "python",
   "nbconvert_exporter": "python",
   "pygments_lexer": "ipython3",
   "version": "3.6.6"
  }
 },
 "nbformat": 4,
 "nbformat_minor": 2
}
