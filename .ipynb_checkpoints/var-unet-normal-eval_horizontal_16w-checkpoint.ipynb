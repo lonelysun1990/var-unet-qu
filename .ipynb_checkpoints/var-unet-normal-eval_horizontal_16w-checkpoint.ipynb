{
 "cells": [
  {
   "cell_type": "code",
   "execution_count": null,
   "metadata": {},
   "outputs": [],
   "source": [
    "import numpy as np\n",
    "# import vunet\n",
    "# import vunet_simple as vunet\n",
    "import vunet_1 as vunet\n",
    "import os\n",
    "os.environ[\"CUDA_VISIBLE_DEVICES\"]=\"0\"\n",
    "from keras import backend as K\n",
    "from keras.layers import Input\n",
    "from keras.models import Model\n",
    "from keras.optimizers import Adam\n",
    "\n",
    "import h5py"
   ]
  },
  {
   "cell_type": "code",
   "execution_count": null,
   "metadata": {},
   "outputs": [],
   "source": [
    "%matplotlib inline\n",
    "import matplotlib.pyplot as plt\n",
    "plt.set_cmap('jet')"
   ]
  },
  {
   "cell_type": "code",
   "execution_count": null,
   "metadata": {},
   "outputs": [],
   "source": [
    "import tensorflow as tf\n",
    "from keras import backend as K\n",
    "\n",
    "# tf.session specification\n",
    "# TensorFlow wizardry\n",
    "config = tf.ConfigProto()\n",
    "\n",
    "# Don't pre-allocate memory; allocate as-needed\n",
    "config.gpu_options.allow_growth = True\n",
    "\n",
    "# Only allow a total of half the GPU memory to be allocated\n",
    "config.gpu_options.per_process_gpu_memory_fraction = 0.85\n",
    "\n",
    "# Create a session with the above options specified.\n",
    "K.tensorflow_backend.set_session(tf.Session(config=config))"
   ]
  },
  {
   "cell_type": "markdown",
   "metadata": {},
   "source": [
    "#### Load/select data"
   ]
  },
  {
   "cell_type": "code",
   "execution_count": null,
   "metadata": {},
   "outputs": [],
   "source": [
    "model_string = 'vunet'\n",
    "output_dir = 'saved_models/'\n",
    "case_string = 'horizontal_16w'\n",
    "data_dir = '/data/cees/zjin/cs231n/project/var-unet/data/'\n",
    "\n",
    "# hf_r = h5py.File(data_dir + case_string + '.hdf5', 'r')\n",
    "hf_r = h5py.File(data_dir + case_string + '_aug.hdf5', 'r')\n",
    "data_train = np.array(hf_r.get('data_train'))\n",
    "data_eval = np.array(hf_r.get('data_eval'))\n",
    "hf_r.close()\n",
    "\n",
    "print(data_train.shape)\n",
    "print(data_eval.shape)\n",
    "\n",
    "n_trial_data = 1800\n",
    "data_train_trial = data_train[:n_trial_data,...]\n",
    "print(data_train_trial.shape)\n",
    "\n",
    "n_eval_data = 200\n",
    "data_eval_trial = data_eval[:n_eval_data,...]\n",
    "print(data_eval_trial.shape)"
   ]
  },
  {
   "cell_type": "code",
   "execution_count": null,
   "metadata": {},
   "outputs": [],
   "source": [
    "# data_train_trial shape (?, 128, 128, 3, 2)\n",
    "train_x_y_hat0 = data_train_trial[..., 0]# xc\n",
    "train_y_hat0 = data_train_trial[..., [0], 1] #c\n",
    "train_x_hat0 = data_train_trial[..., 1:, 1] # x\n",
    "\n",
    "print(train_x_y_hat0.shape)\n",
    "print(train_y_hat0.shape)\n",
    "print(train_x_hat0.shape)\n",
    "\n",
    "eval_x_y_hat0 = data_eval_trial[..., 0]# xc\n",
    "eval_y_hat0 = data_eval_trial[..., [0], 1] #c\n",
    "eval_x_hat0 = data_eval_trial[..., 1:, 1] # x\n",
    "\n",
    "print(eval_x_y_hat0.shape)\n",
    "print(eval_y_hat0.shape)\n",
    "print(eval_x_hat0.shape)\n",
    "\n",
    "# eval_x_y_hat0, eval_y_hat0, eval_x_hat0"
   ]
  },
  {
   "cell_type": "code",
   "execution_count": null,
   "metadata": {},
   "outputs": [],
   "source": [
    "epoch = 100\n",
    "learning_rate = 5e-4 # default 1e-3\n",
    "train_nr = data_train_trial.shape[0]\n",
    "eval_nr = data_eval_trial.shape[0]\n",
    "\n",
    "\n",
    "input_shape = (128,128,3)\n",
    "w_shape = (128,128,1)\n",
    "output_shape = (128,128,2)\n",
    "\n",
    "\n",
    "# enc_up, hidden_shapes = vunet.create_enc_up(input_shape, n_scales = 8)\n",
    "# enc_down = vunet.create_enc_down(latent_shape)\n",
    "# dec_up = vunet.create_dec_up(output_shape, n_scales = 8) # only c input\n",
    "# dec_down = vunet.create_dec_down(hidden_shapes, latent_shape, n_scales = 8)\n",
    "\n",
    "enc_up, hidden_shapes = vunet.create_enc_up(w_shape, n_scales = 5)\n",
    "enc_down = vunet.create_enc_down(hidden_shapes[-1])\n",
    "dec_up = vunet.create_dec_up(input_shape, n_scales = 5) # only c input\n",
    "dec_down = vunet.create_dec_down(hidden_shapes, hidden_shapes[-1], output_shape, n_scales = 5)\n",
    "\n",
    "enc_up.load_weights(output_dir + 'enc_up_norm_' + case_string + '_%dtrain_lr%.0e_ep%d.h5' % (train_nr, learning_rate, epoch))\n",
    "enc_down.load_weights(output_dir + 'enc_down_norm_' + case_string + '_%dtrain_lr%.0e_ep%d.h5' % (train_nr, learning_rate, epoch))\n",
    "dec_up.load_weights(output_dir + 'dec_up_norm_' + case_string + '_%dtrain_lr%.0e_ep%d.h5' % (train_nr, learning_rate, epoch))\n",
    "dec_down.load_weights(output_dir + 'dec_down_norm_' + case_string + '_%dtrain_lr%.0e_ep%d.h5' % (train_nr, learning_rate, epoch))"
   ]
  },
  {
   "cell_type": "code",
   "execution_count": null,
   "metadata": {},
   "outputs": [],
   "source": [
    "xc = Input(shape=input_shape) # perm + well location\n",
    "c = Input(shape=w_shape) # well location\n",
    "\n",
    "hs = enc_up(xc)\n",
    "z_posterior_sample, z_posterior_mean = enc_down(hs[-1])\n",
    "gs = dec_up(c)\n",
    "x_hat, z_piror_sample, z_piror_mean = dec_down([z_posterior_mean, *gs])\n",
    "\n",
    "v_unet_model = Model([xc, c], [x_hat])"
   ]
  },
  {
   "cell_type": "code",
   "execution_count": null,
   "metadata": {},
   "outputs": [],
   "source": [
    "x_hat_pred_eval = v_unet_model.predict([eval_x_y_hat0, eval_y_hat0])\n",
    "print(x_hat_pred_eval.shape)"
   ]
  },
  {
   "cell_type": "code",
   "execution_count": null,
   "metadata": {},
   "outputs": [],
   "source": [
    "x_hat_pred_train = v_unet_model.predict([train_x_y_hat0, train_y_hat0])\n",
    "print(x_hat_pred_train.shape)"
   ]
  },
  {
   "cell_type": "markdown",
   "metadata": {},
   "source": [
    "## Train simulation results"
   ]
  },
  {
   "cell_type": "code",
   "execution_count": null,
   "metadata": {},
   "outputs": [],
   "source": [
    "print(x_hat_pred_train.shape)\n",
    "print(train_x_hat0.shape)\n",
    "\n",
    "err = np.abs(x_hat_pred_train - train_x_hat0)\n",
    "rel_err = np.sum(err, axis=(1,2,3)) / np.sum(train_x_hat0, axis=(1,2,3))\n",
    "print(rel_err.shape)\n",
    "print(np.mean(rel_err))"
   ]
  },
  {
   "cell_type": "code",
   "execution_count": null,
   "metadata": {},
   "outputs": [],
   "source": [
    "# train_x_y_hat0 = data_train_trial[..., 0]# xc\n",
    "# train_y_hat0 = data_train_trial[..., [0], 1] #c\n",
    "# train_x_hat0 = data_train_trial[..., 1:, 1] # x\n",
    "\n",
    "n_plot_train = 2\n",
    "\n",
    "for k in range(n_plot_train):\n",
    "    plt.figure(figsize=(15, 6))\n",
    "    \n",
    "    plt.subplot(2,3,1)\n",
    "    plt.title('$S^{\\prime}$ True')\n",
    "    plt.imshow(train_x_hat0[k, ..., 0])\n",
    "    plt.clim([0, 0.6])\n",
    "    plt.colorbar(fraction=0.046)\n",
    "    \n",
    "    plt.subplot(2,3,2)\n",
    "    plt.title('$S^{\\prime}$ Pred')\n",
    "    plt.imshow(x_hat_pred_train[k, ..., 0])\n",
    "    plt.clim([0, 0.6])\n",
    "    plt.colorbar(fraction=0.046)\n",
    "    \n",
    "    plt.subplot(2,3,3)\n",
    "    plt.title('$S^{\\prime}$ Diff')\n",
    "    plt.imshow(np.abs(x_hat_pred_train[k, ..., 0] - train_x_hat0[k, ..., 0]))\n",
    "#     plt.clim([0, 0.6])\n",
    "    plt.colorbar(fraction=0.046)\n",
    "    \n",
    "    plt.subplot(2,3,4)\n",
    "    plt.imshow(train_x_hat0[k, ..., 1])\n",
    "    plt.title('$p^{\\prime}$ True')\n",
    "#     plt.clim([0, 0.6])\n",
    "    plt.colorbar(fraction=0.046)\n",
    "    \n",
    "    plt.subplot(2,3,5)\n",
    "    plt.imshow(x_hat_pred_train[k, ..., 1]) \n",
    "    plt.title('$p^{\\prime}$ Pred')\n",
    "    plt.colorbar(fraction=0.046)\n",
    "    \n",
    "    plt.subplot(2,3,6)\n",
    "    plt.imshow(np.abs(x_hat_pred_train[k, ..., 1] - train_x_hat0[k, ..., 1]))\n",
    "    plt.title('$p^{\\prime}$ Diff')\n",
    "    plt.colorbar(fraction=0.046)\n",
    "    \n",
    "    plt.tight_layout()\n",
    "    plt.savefig(\"figs/\" + case_string + model_string + \"_train_results_%dtrain_%depoch.pdf\"%(train_nr, epoch), format='pdf')\n",
    "    plt.show()\n",
    "\n",
    "    "
   ]
  },
  {
   "cell_type": "markdown",
   "metadata": {},
   "source": [
    "## Test simulation results"
   ]
  },
  {
   "cell_type": "code",
   "execution_count": null,
   "metadata": {},
   "outputs": [],
   "source": [
    "print(x_hat_pred_eval.shape)\n",
    "print(eval_x_hat0.shape)\n",
    "\n",
    "err_eval = np.abs(x_hat_pred_eval - eval_x_hat0)\n",
    "rel_err_eval = np.sum(err_eval, axis=(1,2,3)) / np.sum(eval_x_hat0, axis=(1,2,3))\n",
    "print(rel_err_eval.shape)\n",
    "print(np.mean(rel_err_eval))"
   ]
  },
  {
   "cell_type": "code",
   "execution_count": null,
   "metadata": {},
   "outputs": [],
   "source": [
    "# eval_x_y_hat0 = data_eval_trial[..., 0]# xc\n",
    "# eval_y_hat0 = data_eval_trial[..., [0], 1] #c\n",
    "# eval_x_hat0 = data_eval_trial[..., 1:, 1] # x\n",
    "\n",
    "n_plot_train = 4\n",
    "\n",
    "for k in range(n_plot_train):\n",
    "    plt.figure(figsize=(15, 6))\n",
    "    \n",
    "    plt.subplot(2,3,1)\n",
    "    plt.title('$S^{\\prime}$ True')\n",
    "    plt.imshow(eval_x_hat0[k, ..., 0])\n",
    "    plt.clim([0, 0.6])\n",
    "    plt.colorbar(fraction=0.046)\n",
    "    \n",
    "    plt.subplot(2,3,2)\n",
    "    plt.title('$S^{\\prime}$ Pred')\n",
    "    plt.imshow(x_hat_pred_eval[k, ..., 0])\n",
    "    plt.clim([0, 0.6])\n",
    "    plt.colorbar(fraction=0.046)\n",
    "    \n",
    "    plt.subplot(2,3,3)\n",
    "    plt.title('$S^{\\prime}$ Diff')\n",
    "    plt.imshow(np.abs(x_hat_pred_eval[k, ..., 0] - eval_x_hat0[k, ..., 0]))\n",
    "#     plt.clim([0, 0.6])\n",
    "    plt.colorbar(fraction=0.046)\n",
    "    \n",
    "    plt.subplot(2,3,4)\n",
    "    plt.imshow(eval_x_hat0[k, ..., 1])\n",
    "    plt.title('$p^{\\prime}$ True')\n",
    "#     plt.clim([0, 0.6])\n",
    "    plt.colorbar(fraction=0.046)\n",
    "    \n",
    "    plt.subplot(2,3,5)\n",
    "    plt.imshow(x_hat_pred_eval[k, ..., 1]) \n",
    "    plt.title('$p^{\\prime}$ Pred')\n",
    "    plt.colorbar(fraction=0.046)\n",
    "    \n",
    "    plt.subplot(2,3,6)\n",
    "    plt.imshow(np.abs(x_hat_pred_eval[k, ..., 1] - eval_x_hat0[k, ..., 1]))\n",
    "    plt.title('$p^{\\prime}$ Diff')\n",
    "    plt.colorbar(fraction=0.046)\n",
    "    \n",
    "    plt.tight_layout()\n",
    "    plt.savefig(\"figs/\" + case_string + model_string + \"_eval_results_%dtrain_%depoch.pdf\"%(train_nr, epoch), format='pdf')\n",
    "    plt.show()\n",
    "\n",
    "    "
   ]
  },
  {
   "cell_type": "code",
   "execution_count": null,
   "metadata": {},
   "outputs": [],
   "source": []
  }
 ],
 "metadata": {
  "kernelspec": {
   "display_name": "Python [conda env:tf-1.10.0]",
   "language": "python",
   "name": "conda-env-tf-1.10.0-py"
  },
  "language_info": {
   "codemirror_mode": {
    "name": "ipython",
    "version": 3
   },
   "file_extension": ".py",
   "mimetype": "text/x-python",
   "name": "python",
   "nbconvert_exporter": "python",
   "pygments_lexer": "ipython3",
   "version": "3.6.6"
  }
 },
 "nbformat": 4,
 "nbformat_minor": 2
}
