{
 "cells": [
  {
   "cell_type": "code",
   "execution_count": 1,
   "metadata": {},
   "outputs": [],
   "source": [
    "import numpy as np\n",
    "import os \n",
    "import h5py\n",
    "import scipy.io"
   ]
  },
  {
   "cell_type": "code",
   "execution_count": 2,
   "metadata": {},
   "outputs": [],
   "source": [
    "data_dir = '/data/cees/gegewen/'"
   ]
  },
  {
   "cell_type": "code",
   "execution_count": 3,
   "metadata": {},
   "outputs": [
    {
     "name": "stdout",
     "output_type": "stream",
     "text": [
      "S_data shape (16384, 4, 50, 50)\n"
     ]
    }
   ],
   "source": [
    "# load data S\n",
    "S_data = scipy.io.loadmat('/data/cees/gegewen/cs231n_project_data/sat_map_v2.mat')['sat_map']\n",
    "print('S_data shape', S_data.shape)\n"
   ]
  },
  {
   "cell_type": "code",
   "execution_count": 4,
   "metadata": {},
   "outputs": [
    {
     "name": "stdout",
     "output_type": "stream",
     "text": [
      "S shape (16384, 4, 42, 50)\n",
      "S shape (128, 128, 4, 42, 50)\n"
     ]
    }
   ],
   "source": [
    "S = np.concatenate([S_data[:,:,:24,:], S_data[:,:,32:,:]], axis = 2)\n",
    "print('S shape', S.shape)\n",
    "S = S.reshape(128, 128, 4, 42, 50)\n",
    "print('S shape', S.shape)"
   ]
  },
  {
   "cell_type": "code",
   "execution_count": 5,
   "metadata": {},
   "outputs": [
    {
     "name": "stdout",
     "output_type": "stream",
     "text": [
      "inj_data shape (128, 128, 50, 50)\n"
     ]
    }
   ],
   "source": [
    "# load data inj\n",
    "inj_data = scipy.io.loadmat('/data/cees/gegewen/cs231n_project_data/inj_map_v2.mat')['inj_map']\n",
    "print('inj_data shape', inj_data.shape)"
   ]
  },
  {
   "cell_type": "code",
   "execution_count": 6,
   "metadata": {},
   "outputs": [
    {
     "name": "stdout",
     "output_type": "stream",
     "text": [
      "inj shape (128, 128, 50, 42)\n",
      "inj shape (128, 128, 42, 50)\n"
     ]
    }
   ],
   "source": [
    "inj = np.concatenate([inj_data[:,:,:,:24], inj_data[:,:,:,32:]], axis = 3)\n",
    "print('inj shape', inj.shape)\n",
    "inj = inj.swapaxes(2,3)\n",
    "print('inj shape', inj.shape)"
   ]
  },
  {
   "cell_type": "code",
   "execution_count": 7,
   "metadata": {},
   "outputs": [
    {
     "ename": "KeyboardInterrupt",
     "evalue": "",
     "output_type": "error",
     "traceback": [
      "\u001b[0;31m---------------------------------------------------------------------------\u001b[0m",
      "\u001b[0;31mKeyboardInterrupt\u001b[0m                         Traceback (most recent call last)",
      "\u001b[0;32m<ipython-input-7-8062e24a612b>\u001b[0m in \u001b[0;36m<module>\u001b[0;34m()\u001b[0m\n\u001b[1;32m      1\u001b[0m \u001b[0;31m#load data k\u001b[0m\u001b[0;34m\u001b[0m\u001b[0;34m\u001b[0m\u001b[0m\n\u001b[0;32m----> 2\u001b[0;31m \u001b[0mk_data\u001b[0m \u001b[0;34m=\u001b[0m \u001b[0mscipy\u001b[0m\u001b[0;34m.\u001b[0m\u001b[0mio\u001b[0m\u001b[0;34m.\u001b[0m\u001b[0mloadmat\u001b[0m\u001b[0;34m(\u001b[0m\u001b[0;34m'/data/cees/gegewen/cs231n_project_data/kmap.mat'\u001b[0m\u001b[0;34m)\u001b[0m\u001b[0;34m[\u001b[0m\u001b[0;34m'kmap'\u001b[0m\u001b[0;34m]\u001b[0m\u001b[0;34m\u001b[0m\u001b[0m\n\u001b[0m\u001b[1;32m      3\u001b[0m \u001b[0mprint\u001b[0m\u001b[0;34m(\u001b[0m\u001b[0;34m'k_data shape'\u001b[0m\u001b[0;34m,\u001b[0m \u001b[0mk_data\u001b[0m\u001b[0;34m.\u001b[0m\u001b[0mshape\u001b[0m\u001b[0;34m)\u001b[0m\u001b[0;34m\u001b[0m\u001b[0m\n\u001b[1;32m      4\u001b[0m \u001b[0mk\u001b[0m \u001b[0;34m=\u001b[0m \u001b[0mnp\u001b[0m\u001b[0;34m.\u001b[0m\u001b[0mconcatenate\u001b[0m\u001b[0;34m(\u001b[0m\u001b[0;34m[\u001b[0m\u001b[0mk_data\u001b[0m\u001b[0;34m[\u001b[0m\u001b[0;34m:\u001b[0m\u001b[0;34m,\u001b[0m\u001b[0;34m:\u001b[0m\u001b[0;36m24\u001b[0m\u001b[0;34m]\u001b[0m\u001b[0;34m,\u001b[0m \u001b[0mk_data\u001b[0m\u001b[0;34m[\u001b[0m\u001b[0;34m:\u001b[0m\u001b[0;34m,\u001b[0m\u001b[0;36m32\u001b[0m\u001b[0;34m:\u001b[0m\u001b[0;36m50\u001b[0m\u001b[0;34m]\u001b[0m\u001b[0;34m]\u001b[0m\u001b[0;34m,\u001b[0m \u001b[0maxis\u001b[0m \u001b[0;34m=\u001b[0m \u001b[0;36m1\u001b[0m\u001b[0;34m)\u001b[0m\u001b[0;34m\u001b[0m\u001b[0m\n\u001b[1;32m      5\u001b[0m \u001b[0mprint\u001b[0m\u001b[0;34m(\u001b[0m\u001b[0;34m'k shape'\u001b[0m\u001b[0;34m,\u001b[0m \u001b[0mk\u001b[0m\u001b[0;34m.\u001b[0m\u001b[0mshape\u001b[0m\u001b[0;34m)\u001b[0m\u001b[0;34m\u001b[0m\u001b[0m\n",
      "\u001b[0;32m/usr/lib64/python3.6/site-packages/scipy/io/matlab/mio.py\u001b[0m in \u001b[0;36mloadmat\u001b[0;34m(file_name, mdict, appendmat, **kwargs)\u001b[0m\n\u001b[1;32m    140\u001b[0m     \u001b[0mvariable_names\u001b[0m \u001b[0;34m=\u001b[0m \u001b[0mkwargs\u001b[0m\u001b[0;34m.\u001b[0m\u001b[0mpop\u001b[0m\u001b[0;34m(\u001b[0m\u001b[0;34m'variable_names'\u001b[0m\u001b[0;34m,\u001b[0m \u001b[0;32mNone\u001b[0m\u001b[0;34m)\u001b[0m\u001b[0;34m\u001b[0m\u001b[0m\n\u001b[1;32m    141\u001b[0m     \u001b[0mMR\u001b[0m\u001b[0;34m,\u001b[0m \u001b[0mfile_opened\u001b[0m \u001b[0;34m=\u001b[0m \u001b[0mmat_reader_factory\u001b[0m\u001b[0;34m(\u001b[0m\u001b[0mfile_name\u001b[0m\u001b[0;34m,\u001b[0m \u001b[0mappendmat\u001b[0m\u001b[0;34m,\u001b[0m \u001b[0;34m**\u001b[0m\u001b[0mkwargs\u001b[0m\u001b[0;34m)\u001b[0m\u001b[0;34m\u001b[0m\u001b[0m\n\u001b[0;32m--> 142\u001b[0;31m     \u001b[0mmatfile_dict\u001b[0m \u001b[0;34m=\u001b[0m \u001b[0mMR\u001b[0m\u001b[0;34m.\u001b[0m\u001b[0mget_variables\u001b[0m\u001b[0;34m(\u001b[0m\u001b[0mvariable_names\u001b[0m\u001b[0;34m)\u001b[0m\u001b[0;34m\u001b[0m\u001b[0m\n\u001b[0m\u001b[1;32m    143\u001b[0m     \u001b[0;32mif\u001b[0m \u001b[0mmdict\u001b[0m \u001b[0;32mis\u001b[0m \u001b[0;32mnot\u001b[0m \u001b[0;32mNone\u001b[0m\u001b[0;34m:\u001b[0m\u001b[0;34m\u001b[0m\u001b[0m\n\u001b[1;32m    144\u001b[0m         \u001b[0mmdict\u001b[0m\u001b[0;34m.\u001b[0m\u001b[0mupdate\u001b[0m\u001b[0;34m(\u001b[0m\u001b[0mmatfile_dict\u001b[0m\u001b[0;34m)\u001b[0m\u001b[0;34m\u001b[0m\u001b[0m\n",
      "\u001b[0;32m/usr/lib64/python3.6/site-packages/scipy/io/matlab/mio5.py\u001b[0m in \u001b[0;36mget_variables\u001b[0;34m(self, variable_names)\u001b[0m\n\u001b[1;32m    290\u001b[0m                 \u001b[0;32mcontinue\u001b[0m\u001b[0;34m\u001b[0m\u001b[0m\n\u001b[1;32m    291\u001b[0m             \u001b[0;32mtry\u001b[0m\u001b[0;34m:\u001b[0m\u001b[0;34m\u001b[0m\u001b[0m\n\u001b[0;32m--> 292\u001b[0;31m                 \u001b[0mres\u001b[0m \u001b[0;34m=\u001b[0m \u001b[0mself\u001b[0m\u001b[0;34m.\u001b[0m\u001b[0mread_var_array\u001b[0m\u001b[0;34m(\u001b[0m\u001b[0mhdr\u001b[0m\u001b[0;34m,\u001b[0m \u001b[0mprocess\u001b[0m\u001b[0;34m)\u001b[0m\u001b[0;34m\u001b[0m\u001b[0m\n\u001b[0m\u001b[1;32m    293\u001b[0m             \u001b[0;32mexcept\u001b[0m \u001b[0mMatReadError\u001b[0m \u001b[0;32mas\u001b[0m \u001b[0merr\u001b[0m\u001b[0;34m:\u001b[0m\u001b[0;34m\u001b[0m\u001b[0m\n\u001b[1;32m    294\u001b[0m                 warnings.warn(\n",
      "\u001b[0;32m/usr/lib64/python3.6/site-packages/scipy/io/matlab/mio5.py\u001b[0m in \u001b[0;36mread_var_array\u001b[0;34m(self, header, process)\u001b[0m\n\u001b[1;32m    250\u001b[0m            \u001b[0;31m`\u001b[0m\u001b[0mprocess\u001b[0m\u001b[0;31m`\u001b[0m\u001b[0;34m.\u001b[0m\u001b[0;34m\u001b[0m\u001b[0m\n\u001b[1;32m    251\u001b[0m         '''\n\u001b[0;32m--> 252\u001b[0;31m         \u001b[0;32mreturn\u001b[0m \u001b[0mself\u001b[0m\u001b[0;34m.\u001b[0m\u001b[0m_matrix_reader\u001b[0m\u001b[0;34m.\u001b[0m\u001b[0marray_from_header\u001b[0m\u001b[0;34m(\u001b[0m\u001b[0mheader\u001b[0m\u001b[0;34m,\u001b[0m \u001b[0mprocess\u001b[0m\u001b[0;34m)\u001b[0m\u001b[0;34m\u001b[0m\u001b[0m\n\u001b[0m\u001b[1;32m    253\u001b[0m \u001b[0;34m\u001b[0m\u001b[0m\n\u001b[1;32m    254\u001b[0m     \u001b[0;32mdef\u001b[0m \u001b[0mget_variables\u001b[0m\u001b[0;34m(\u001b[0m\u001b[0mself\u001b[0m\u001b[0;34m,\u001b[0m \u001b[0mvariable_names\u001b[0m\u001b[0;34m=\u001b[0m\u001b[0;32mNone\u001b[0m\u001b[0;34m)\u001b[0m\u001b[0;34m:\u001b[0m\u001b[0;34m\u001b[0m\u001b[0m\n",
      "\u001b[0;31mKeyboardInterrupt\u001b[0m: "
     ]
    }
   ],
   "source": [
    "#load data k\n",
    "k_data = scipy.io.loadmat('/data/cees/gegewen/cs231n_project_data/kmap.mat')['kmap']\n",
    "print('k_data shape', k_data.shape)\n",
    "k = np.concatenate([k_data[:,:24], k_data[:,32:50]], axis = 1)\n",
    "print('k shape', k.shape)"
   ]
  },
  {
   "cell_type": "code",
   "execution_count": null,
   "metadata": {},
   "outputs": [],
   "source": [
    "k = k.reshape(128, 128, 42)\n",
    "print('k shape', k.shape)"
   ]
  },
  {
   "cell_type": "code",
   "execution_count": 8,
   "metadata": {},
   "outputs": [
    {
     "name": "stdout",
     "output_type": "stream",
     "text": [
      "Pressure_data shape (16384, 4, 50, 50)\n"
     ]
    }
   ],
   "source": [
    "# load data P\n",
    "P_data = scipy.io.loadmat('/data/cees/gegewen/cs231n_project_data/pressure_map_v2.mat')['pressure_map']\n",
    "print('Pressure_data shape', P_data.shape)"
   ]
  },
  {
   "cell_type": "code",
   "execution_count": 9,
   "metadata": {},
   "outputs": [
    {
     "name": "stdout",
     "output_type": "stream",
     "text": [
      "P shape (16384, 4, 42, 50)\n",
      "P shape (128, 128, 4, 42, 50)\n"
     ]
    }
   ],
   "source": [
    "P = np.concatenate([P_data[:,:,:24,:], P_data[:,:,32:,:]], axis = 2)\n",
    "print('P shape', P.shape)\n",
    "P = P.reshape(128, 128, 4, 42, 50)\n",
    "print('P shape', P.shape)"
   ]
  },
  {
   "cell_type": "code",
   "execution_count": 10,
   "metadata": {},
   "outputs": [
    {
     "name": "stdout",
     "output_type": "stream",
     "text": [
      "S shape (128, 128, 4, 42, 50, 1)\n"
     ]
    }
   ],
   "source": [
    "# reshape data S\n",
    "S = S.reshape(128, 128, 4, 42, 50, 1)\n",
    "print('S shape', S.shape)"
   ]
  },
  {
   "cell_type": "code",
   "execution_count": 11,
   "metadata": {},
   "outputs": [
    {
     "name": "stdout",
     "output_type": "stream",
     "text": [
      "inj shape (128, 128, 42, 50)\n",
      "inj shape (128, 128, 4, 42, 50)\n",
      "inj shape (128, 128, 4, 42, 50, 1)\n"
     ]
    }
   ],
   "source": [
    "# reshape data inj\n",
    "print('inj shape', inj.shape)\n",
    "inj = np.repeat(inj[:, :, np.newaxis, :, :], 4, axis = 2)\n",
    "print('inj shape', inj.shape)\n",
    "inj = inj.reshape(128, 128, 4, 42, 50, 1)\n",
    "print('inj shape', inj.shape)\n",
    "inj = inj.swapaxes(0,1)"
   ]
  },
  {
   "cell_type": "code",
   "execution_count": 12,
   "metadata": {},
   "outputs": [],
   "source": [
    "inj_day = np.zeros_like(inj)\n",
    "inj_day[:, :, 0, :, :, :] = inj[:, :, 0, :, :, :].astype('float64') * 25\n",
    "inj_day[:, :, 1, :, :, :] = inj[:, :, 1, :, :, :].astype('float64') * 50\n",
    "inj_day[:, :, 2, :, :, :] = inj[:, :, 2, :, :, :].astype('float64') * 75\n",
    "inj_day[:, :, 3, :, :, :] = inj[:, :, 3, :, :, :].astype('float64') * 100"
   ]
  },
  {
   "cell_type": "code",
   "execution_count": 13,
   "metadata": {},
   "outputs": [
    {
     "name": "stdout",
     "output_type": "stream",
     "text": [
      "P shape (128, 128, 4, 42, 50, 1)\n"
     ]
    }
   ],
   "source": [
    "# reshape data P\n",
    "P = P.reshape(128, 128, 4, 42, 50, 1)\n",
    "print('P shape', P.shape)"
   ]
  },
  {
   "cell_type": "code",
   "execution_count": null,
   "metadata": {},
   "outputs": [],
   "source": [
    "%matplotlib inline\n",
    "import matplotlib.pyplot as plt \n",
    "\n",
    "day_idx = 3\n",
    "k_idx = 4\n",
    "\n",
    "for well_idx in range (5,10):\n",
    "    plt.set_cmap('jet')\n",
    "\n",
    "    plt.figure(figsize=(12, 3))\n",
    "    plt.subplot(1,3,1)\n",
    "    plt.imshow(S[:, :, day_idx, k_idx,well_idx,0])\n",
    "    plt.title('SG')\n",
    "    plt.plot()\n",
    "    plt.colorbar(fraction=0.046)\n",
    "    \n",
    "    plt.subplot(1,3,2)\n",
    "    plt.imshow(inj_day[:, :, day_idx, k_idx, well_idx, 0])\n",
    "    plt.title('inj (day)')\n",
    "    plt.plot()\n",
    "    plt.colorbar(fraction=0.046)\n",
    "\n",
    "    plt.subplot(1,3,3)\n",
    "    plt.imshow(P[:, :, day_idx, k_idx, well_idx, 0])\n",
    "    plt.title('P')\n",
    "    plt.plot()\n",
    "    plt.colorbar(fraction=0.046)\n",
    "    \n",
    "    plt.tight_layout()\n",
    "    plt.show()\n"
   ]
  },
  {
   "cell_type": "code",
   "execution_count": 15,
   "metadata": {},
   "outputs": [
    {
     "name": "stdout",
     "output_type": "stream",
     "text": [
      "P shape (128, 128, 4, 42, 50, 1)\n",
      "S shape (128, 128, 4, 42, 50, 1)\n",
      "inj_day shape (128, 128, 4, 42, 50, 1)\n"
     ]
    }
   ],
   "source": [
    "print('P shape', P.shape)\n",
    "print('S shape', S.shape)\n",
    "print('inj_day shape', inj_day.shape)"
   ]
  },
  {
   "cell_type": "code",
   "execution_count": 16,
   "metadata": {},
   "outputs": [
    {
     "name": "stdout",
     "output_type": "stream",
     "text": [
      "package shape is  (128, 128, 4, 42, 50, 3)\n"
     ]
    }
   ],
   "source": [
    "inj_S_P = np.concatenate([inj_day, S, P], axis = 5)\n",
    "print('package shape is ', inj_S_P.shape)"
   ]
  },
  {
   "cell_type": "code",
   "execution_count": 51,
   "metadata": {},
   "outputs": [
    {
     "name": "stdout",
     "output_type": "stream",
     "text": [
      "package1 shape is  (128, 128, 4, 21, 50, 3, 1)\n",
      "package2 shape is  (128, 128, 4, 21, 50, 3, 1)\n"
     ]
    }
   ],
   "source": [
    "inj_S_P_1 = inj_S_P[..., :21, :, :].reshape(128, 128, 4, 21, 50 ,3, 1)\n",
    "inj_S_P_2 = inj_S_P[..., 21:, :,:].reshape(128, 128, 4, 21, 50 ,3, 1)\n",
    "print('package1 shape is ', inj_S_P_1.shape)\n",
    "print('package2 shape is ', inj_S_P_2.shape)"
   ]
  },
  {
   "cell_type": "code",
   "execution_count": 53,
   "metadata": {},
   "outputs": [
    {
     "name": "stdout",
     "output_type": "stream",
     "text": [
      "package shape is  (128, 128, 4, 21, 50, 3, 2)\n",
      "package shape is  (128, 128, 4, 50, 21, 3, 2)\n"
     ]
    }
   ],
   "source": [
    "inj_S_P_data = np.concatenate([inj_S_P_1, inj_S_P_2], axis = 6)\n",
    "print('package shape is ', inj_S_P_data.shape)\n",
    "inj_S_P_data = inj_S_P_data.swapaxes(3,4)\n",
    "print('package shape is ', inj_S_P_data.shape)"
   ]
  },
  {
   "cell_type": "code",
   "execution_count": 17,
   "metadata": {},
   "outputs": [],
   "source": [
    "hw = h5py.File('/data/cees/gegewen/cs231n_project_data/inj_S_P_data_v3.hdf5', 'w')\n",
    "hw.create_dataset('inj_S_P_data', data = inj_S_P)\n",
    "hw.close()"
   ]
  },
  {
   "cell_type": "code",
   "execution_count": null,
   "metadata": {},
   "outputs": [],
   "source": []
  }
 ],
 "metadata": {
  "kernelspec": {
   "display_name": "Python 3",
   "language": "python",
   "name": "python3"
  },
  "language_info": {
   "codemirror_mode": {
    "name": "ipython",
    "version": 3
   },
   "file_extension": ".py",
   "mimetype": "text/x-python",
   "name": "python",
   "nbconvert_exporter": "python",
   "pygments_lexer": "ipython3",
   "version": "3.7.0"
  }
 },
 "nbformat": 4,
 "nbformat_minor": 2
}
